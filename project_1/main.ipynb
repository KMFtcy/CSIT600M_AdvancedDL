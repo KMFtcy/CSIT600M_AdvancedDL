{
 "cells": [
  {
   "cell_type": "code",
   "execution_count": 49,
   "metadata": {},
   "outputs": [],
   "source": [
    "import numpy as np\n",
    "from sklearn.ensemble import RandomForestClassifier\n",
    "import matplotlib.pyplot as plt\n",
    "from PIL import Image\n",
    "\n",
    "import torch\n",
    "from torch import nn\n",
    "from torch.utils.data import DataLoader\n",
    "from torch.utils.data import Dataset\n",
    "from torchvision import datasets, transforms\n",
    "from torchsummary import summary"
   ]
  },
  {
   "attachments": {},
   "cell_type": "markdown",
   "metadata": {},
   "source": [
    "# Load dataset and create dataloaders"
   ]
  },
  {
   "cell_type": "code",
   "execution_count": 50,
   "metadata": {},
   "outputs": [
    {
     "name": "stdout",
     "output_type": "stream",
     "text": [
      "(1, 32, 32)\n",
      "[1 1 1 3 2 2 2 1 2 1 2 1 3 2 3 3 3 3 1 2 3 3 1 2 2 2 3 2 1 1 1 1 3 1 3 1 2\n",
      " 2 1 3 1 1 3 2 3 1 2 2 1 3 2 3 2 2 3 3 1 1 3 3 2 3 3 1 2 1 3 2 3 1 2 3 2 3\n",
      " 3 1 1 2 1 2 3 3 2 1 2 3 1 1 2 2 1 3 1 1 2 2 1 1 3 2 3 1 1 2 2 1 3 1 3 3 2\n",
      " 2 3 1 1 2 3 1 1 3 1 3 2 3 2 2 1 2 1 1 2 3 3 1 2 3 1 2 3 1 1 1 2 1 2 2 3 1\n",
      " 2 1 1 1 1 1 1 3 1 1 1 3 3 1 1 3 3 1 3 3 3 2 1 3 1 3 1 3 3 1 3 3 1 3 2 2 1\n",
      " 3 1 3 1 1 2 2 3 1 3 2 3 1 1 1 3 3 1 1 1 3 1 2 1 3 2 3 3 2 3 2 1 1 3 3 1 1\n",
      " 2 3 2 3 1 1 2 3 3 2 3 2 2 1 2 2 2 3 3 1 1 3 3 1 2 3 3 2 1 1 3 1 1 2 2 3 1\n",
      " 2 1 2 1 2 3 2 1 3 3 1 1 2 2 2 1 2 3 1 1 2 3 3 3 2 1 3 2 1 3 2 2 2 2 1 1 1\n",
      " 3 3 2 2 1 3 2 3 1 1 1 2 3 1 1 1 3 3 1 1 1 1 1 3 1 3 3 2 1 1 2 3 1 2 3 2 1\n",
      " 1 2 3 1 3 3 2 2 2 3 1 1 3 3 2 3 1 3 3 1 3 3 1 2 2 2 2 3 3 1 2 1 3 3 1 1 2\n",
      " 3 2 2 1 2 2 1 2 1 2 3 2 3 3 3 3 3 2 1 2 2 1 1 3 1 1 3 1 1 2 2 2 3 3 1 3 2\n",
      " 2 3 3 2 1 3 3 2 2 1 1 1 3 1 1 3 2 3 1 1 3 1 1 2 3 2 2 1 2 2 2 2 2 3 2 3 3\n",
      " 1 2 1 1 3 2 1 2 1 1 3 1 1 2 2 1 3 1 3 2 1 2 3 1 2 3 3 2 3 2 1 2 1 2 3 2 3\n",
      " 1 1 1 1 1 2 1 3 3 3 3 1 1 1 3 2 1 3 3]\n"
     ]
    }
   ],
   "source": [
    "dataset_test_path = \"../../part1_bballs_test.npz\"\n",
    "dataset_train_path = \"../../part1_bballs_training.npz\"\n",
    "batch_size = 4\n",
    "\n",
    "dataset_train = np.load(dataset_train_path,allow_pickle=True)\n",
    "print(np.reshape(dataset_train['data'][2],(1,32,32)).shape)\n",
    "print(dataset_train['label'])\n",
    "\n",
    "dataset_test = np.load(dataset_test_path,allow_pickle=True)\n",
    "\n",
    "class CustomImageDataset(Dataset):\n",
    "    def __init__(self, file_dir , transform=None, target_transform=None):\n",
    "        self.file_dir = file_dir\n",
    "        dataset_file = np.load(file_dir,allow_pickle=True)\n",
    "        self.data = dataset_file['data']\n",
    "        self.labels = dataset_file['label'] -1\n",
    "        self.transform = transform\n",
    "        self.target_transform = target_transform\n",
    "\n",
    "    def __len__(self):\n",
    "        return len(self.labels)\n",
    "\n",
    "    def __getitem__(self, idx):\n",
    "        image = np.reshape(self.data[idx],(1,32,32))\n",
    "        image = np.float32(image)\n",
    "        label = self.labels[idx]\n",
    "        if self.transform:\n",
    "            image = self.transform(image)\n",
    "        if self.target_transform:\n",
    "            label = self.target_transform(label)\n",
    "        return image, label\n",
    "\n",
    "training_data = CustomImageDataset(dataset_train_path)\n",
    "test_data = CustomImageDataset(dataset_test_path)\n",
    "train_dataloader = DataLoader(training_data, batch_size = batch_size, shuffle=True)\n",
    "test_dataloader = DataLoader(test_data, batch_size = batch_size, shuffle=True)"
   ]
  },
  {
   "cell_type": "code",
   "execution_count": 51,
   "metadata": {},
   "outputs": [
    {
     "data": {
      "image/png": "[encoded data removed]",
      "text/plain": [
       "<Figure size 600x800 with 8 Axes>"
      ]
     },
     "metadata": {},
     "output_type": "display_data"
    }
   ],
   "source": [
    "# create figure\n",
    "fig = plt.figure(figsize=(6, 8))\n",
    "\n",
    "# setting values to rows and column variables\n",
    "rows = 4\n",
    "columns = 2\n",
    "\n",
    "for i in range(1,9):\n",
    "    B_example_image = np.reshape(np.array(dataset_train['data'][i][0]),(32,32))\n",
    "    fig.add_subplot(rows, columns, i)\n",
    "    plt.imshow(B_example_image)\n",
    "\n",
    "plt.show()"
   ]
  },
  {
   "cell_type": "code",
   "execution_count": 52,
   "metadata": {},
   "outputs": [
    {
     "name": "stdout",
     "output_type": "stream",
     "text": [
      "Using cuda device\n"
     ]
    }
   ],
   "source": [
    "# test device if it works\n",
    "device = \"cuda\" if torch.cuda.is_available() else \"cpu\"\n",
    "# device = \"cpu\"\n",
    "print(f\"Using {device} device\")\n",
    "\n",
    "# parms\n",
    "classes_num = 3\n",
    "\n",
    "# create model\n",
    "class NeuralNetwork(nn.Module):\n",
    "    def __init__(self):\n",
    "        super(NeuralNetwork, self).__init__()\n",
    "        self.flatten = nn.Flatten()\n",
    "        self.conv_relu_stack = nn.Sequential(\n",
    "            nn.Conv2d(1, 16, kernel_size = 3, stride=1, padding=1),\n",
    "            nn.ReLU(),\n",
    "            nn.Conv2d(16, 32, kernel_size = 3, stride=1, padding=1),\n",
    "            nn.ReLU(),\n",
    "            nn.MaxPool2d(2, stride=2),\n",
    "            nn.Conv2d(32, 32, kernel_size = 3, stride=1, padding=1),\n",
    "            nn.ReLU(),\n",
    "            nn.Conv2d(32, 16, kernel_size = 3, stride=1, padding=1),\n",
    "            nn.ReLU(),\n",
    "            nn.MaxPool2d(2, stride=2),\n",
    "            nn.Flatten(),\n",
    "            nn.Linear(1024, 64),\n",
    "            nn.Linear(64, classes_num)\n",
    "        )\n",
    "\n",
    "    def forward(self, x):\n",
    "        # x = self.flatten(x)\n",
    "        logits = self.conv_relu_stack(x)\n",
    "        return logits\n",
    "\n",
    "model = NeuralNetwork().to(device)"
   ]
  },
  {
   "cell_type": "code",
   "execution_count": 53,
   "metadata": {},
   "outputs": [
    {
     "name": "stdout",
     "output_type": "stream",
     "text": [
      "----------------------------------------------------------------\n",
      "        Layer (type)               Output Shape         Param #\n",
      "================================================================\n",
      "            Conv2d-1           [-1, 16, 32, 32]             160\n",
      "              ReLU-2           [-1, 16, 32, 32]               0\n",
      "            Conv2d-3           [-1, 32, 32, 32]           4,640\n",
      "              ReLU-4           [-1, 32, 32, 32]               0\n",
      "         MaxPool2d-5           [-1, 32, 16, 16]               0\n",
      "            Conv2d-6           [-1, 32, 16, 16]           9,248\n",
      "              ReLU-7           [-1, 32, 16, 16]               0\n",
      "            Conv2d-8           [-1, 16, 16, 16]           4,624\n",
      "              ReLU-9           [-1, 16, 16, 16]               0\n",
      "        MaxPool2d-10             [-1, 16, 8, 8]               0\n",
      "          Flatten-11                 [-1, 1024]               0\n",
      "           Linear-12                   [-1, 64]          65,600\n",
      "           Linear-13                    [-1, 3]             195\n",
      "================================================================\n",
      "Total params: 84,467\n",
      "Trainable params: 84,467\n",
      "Non-trainable params: 0\n",
      "----------------------------------------------------------------\n",
      "Input size (MB): 0.00\n",
      "Forward/backward pass size (MB): 1.02\n",
      "Params size (MB): 0.32\n",
      "Estimated Total Size (MB): 1.34\n",
      "----------------------------------------------------------------\n"
     ]
    }
   ],
   "source": [
    "# show model detail\n",
    "summary(model, input_size=(1, 32, 32))\n"
   ]
  },
  {
   "cell_type": "code",
   "execution_count": 54,
   "metadata": {},
   "outputs": [
    {
     "name": "stdout",
     "output_type": "stream",
     "text": [
      "Epoch 1\n",
      "-------------------------------\n",
      "loss: 1.071364  [    4/  500]\n",
      "loss: 0.485324  [  404/  500]\n",
      "Test Error: \n",
      " Accuracy: 86.5%, Avg loss: 0.327411 \n",
      "\n",
      "Epoch 2\n",
      "-------------------------------\n",
      "loss: 0.896491  [    4/  500]\n",
      "loss: 0.012431  [  404/  500]\n",
      "Test Error: \n",
      " Accuracy: 92.5%, Avg loss: 0.164679 \n",
      "\n",
      "Epoch 3\n",
      "-------------------------------\n",
      "loss: 0.000908  [    4/  500]\n",
      "loss: 0.001877  [  404/  500]\n",
      "Test Error: \n",
      " Accuracy: 79.5%, Avg loss: 0.438433 \n",
      "\n",
      "Epoch 4\n",
      "-------------------------------\n",
      "loss: 0.000864  [    4/  500]\n",
      "loss: 0.000246  [  404/  500]\n",
      "Test Error: \n",
      " Accuracy: 83.0%, Avg loss: 0.385710 \n",
      "\n",
      "Epoch 5\n",
      "-------------------------------\n",
      "loss: 0.000345  [    4/  500]\n",
      "loss: 0.004361  [  404/  500]\n",
      "Test Error: \n",
      " Accuracy: 85.5%, Avg loss: 0.334941 \n",
      "\n",
      "Done!\n"
     ]
    }
   ],
   "source": [
    "# define training and testing functions\n",
    "\n",
    "# define loss func and optimizer\n",
    "loss_fn = nn.CrossEntropyLoss()\n",
    "optimizer = torch.optim.Adam(model.parameters(), lr=1e-3)\n",
    "\n",
    "def train(dataloader, model, loss_fn, optimizer):\n",
    "    size = len(dataloader.dataset)\n",
    "    model.train()\n",
    "    for batch, (X, y) in enumerate(dataloader):\n",
    "        X, y = X.to(device), y.to(device)\n",
    "        # Compute prediction error\n",
    "        pred = model(X)\n",
    "        loss = loss_fn(pred, y)\n",
    "        # Backpropagation\n",
    "        optimizer.zero_grad()\n",
    "        loss.backward()\n",
    "        optimizer.step()\n",
    "        if batch % 100 == 0:\n",
    "            loss, current = loss.item(), (batch + 1) * len(X)\n",
    "            print(f\"loss: {loss:>7f}  [{current:>5d}/{size:>5d}]\")\n",
    "\n",
    "def test(dataloader, model, loss_fn):\n",
    "    size = len(dataloader.dataset)\n",
    "    num_batches = len(dataloader)\n",
    "    model.eval()\n",
    "    test_loss, correct = 0, 0\n",
    "    with torch.no_grad():\n",
    "        for X, y in dataloader:\n",
    "            X, y = X.to(device), y.to(device)\n",
    "            pred = model(X)\n",
    "            test_loss += loss_fn(pred, y).item()\n",
    "            correct += (pred.argmax(1) == y).type(torch.float).sum().item()\n",
    "    test_loss /= num_batches\n",
    "    correct /= size\n",
    "    print(f\"Test Error: \\n Accuracy: {(100*correct):>0.1f}%, Avg loss: {test_loss:>8f} \\n\")\n",
    "\n",
    "epochs = 5\n",
    "for t in range(epochs):\n",
    "    print(f\"Epoch {t+1}\\n-------------------------------\")\n",
    "    train(train_dataloader, model, loss_fn, optimizer)\n",
    "    test(test_dataloader, model, loss_fn)\n",
    "print(\"Done!\")"
   ]
  }
 ],
 "metadata": {
  "kernelspec": {
   "display_name": "pytorch",
   "language": "python",
   "name": "python3"
  },
  "language_info": {
   "codemirror_mode": {
    "name": "ipython",
    "version": 3
   },
   "file_extension": ".py",
   "mimetype": "text/x-python",
   "name": "python",
   "nbconvert_exporter": "python",
   "pygments_lexer": "ipython3",
   "version": "3.9.15"
  },
  "orig_nbformat": 4,
  "vscode": {
   "interpreter": {
    "hash": "09b8cbbefc33990dac41d8915b928e0fb399946a1e6bce9db6cbb8932821d6ee"
   }
  }
 },
 "nbformat": 4,
 "nbformat_minor": 2
}
